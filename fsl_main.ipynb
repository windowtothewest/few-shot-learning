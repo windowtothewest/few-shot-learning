{
 "cells": [
  {
   "cell_type": "code",
   "execution_count": 1,
   "metadata": {},
   "outputs": [
    {
     "name": "stderr",
     "output_type": "stream",
     "text": [
      "/usr/local/Caskroom/miniforge/base/envs/pytorch-env/lib/python3.8/site-packages/tqdm/auto.py:22: TqdmWarning: IProgress not found. Please update jupyter and ipywidgets. See https://ipywidgets.readthedocs.io/en/stable/user_install.html\n",
      "  from .autonotebook import tqdm as notebook_tqdm\n"
     ]
    }
   ],
   "source": [
    "import torch\n",
    "from torch import nn, optim\n",
    "from torch.utils.data import DataLoader\n",
    "from torchvision import transforms\n",
    "from torchvision.datasets import Omniglot\n",
    "from torchvision.models import resnet18\n",
    "from tqdm import tqdm\n",
    "from auxillary_functions import *"
   ]
  },
  {
   "cell_type": "code",
   "execution_count": 2,
   "metadata": {},
   "outputs": [
    {
     "name": "stdout",
     "output_type": "stream",
     "text": [
      "Files already downloaded and verified\n",
      "Files already downloaded and verified\n"
     ]
    }
   ],
   "source": [
    "image_dim = 28\n",
    "\n",
    "train_set = Omniglot(\n",
    "    root = \"./data\",\n",
    "    background = True,\n",
    "    transform = transforms.Compose(\n",
    "        [\n",
    "            transforms.Grayscale(num_output_channels = 3),\n",
    "            transforms.RandomResizedCrop(image_dim),\n",
    "            transforms.RandomHorizontalFlip(),\n",
    "            transforms.ToTensor()\n",
    "        ],\n",
    "    ),\n",
    "    download = True\n",
    ")\n",
    "\n",
    "test_set = Omniglot(\n",
    "    root = \"./data\",\n",
    "    background = False,\n",
    "    transform = transforms.Compose(\n",
    "        [\n",
    "            transforms.Grayscale(num_output_channels = 3),\n",
    "            transforms.Resize([int(image_dim * 1.15), int(image_dim * 1.15)]),\n",
    "            transforms.CenterCrop(image_dim),\n",
    "            transforms.ToTensor()\n",
    "        ]\n",
    "    ),\n",
    "    download = True\n",
    ")"
   ]
  },
  {
   "cell_type": "code",
   "execution_count": 3,
   "metadata": {},
   "outputs": [
    {
     "name": "stderr",
     "output_type": "stream",
     "text": [
      "/usr/local/Caskroom/miniforge/base/envs/pytorch-env/lib/python3.8/site-packages/torchvision/models/_utils.py:208: UserWarning: The parameter 'pretrained' is deprecated since 0.13 and will be removed in 0.15, please use 'weights' instead.\n",
      "  warnings.warn(\n",
      "/usr/local/Caskroom/miniforge/base/envs/pytorch-env/lib/python3.8/site-packages/torchvision/models/_utils.py:223: UserWarning: Arguments other than a weight enum or `None` for 'weights' are deprecated since 0.13 and will be removed in 0.15. The current behavior is equivalent to passing `weights=ResNet18_Weights.IMAGENET1K_V1`. You can also use `weights=ResNet18_Weights.DEFAULT` to get the most up-to-date weights.\n",
      "  warnings.warn(msg)\n"
     ]
    }
   ],
   "source": [
    "class ProtoNN(nn.Module):\n",
    "    def __init__(self, backbone:nn.Module):\n",
    "        super(ProtoNN, self).__init__()\n",
    "        self.backbone = backbone #will be using pretrained resnet backbone for feature extraction from images\n",
    "    \n",
    "    def forward(self, support_images: torch.Tensor, support_labels: torch.Tensor, query_images: torch.Tensor) -> torch.Tensor:\n",
    "        # Predicting query labels from labeled support images\n",
    "        \n",
    "        #Feature extraction\n",
    "        support = self.backbone.forward(support_images)\n",
    "        query = self.backbone.forward(query_images)\n",
    "        \n",
    "        n_way = len(torch.unique(support_labels)) #num classes from num labels\n",
    "        proto = torch.cat([support[torch.nonzero(support_labels == label)].mean(0) for label in range(n_way)])\n",
    "        \n",
    "        distances = torch.cdist(query, proto)\n",
    "        \n",
    "        return -distances #classification scores given by negative distances\n",
    "\n",
    "cnn = resnet18(pretrained = True)\n",
    "cnn.fc = nn.Flatten()\n",
    "model = ProtoNN(cnn)"
   ]
  },
  {
   "cell_type": "code",
   "execution_count": 17,
   "metadata": {},
   "outputs": [
    {
     "ename": "TypeError",
     "evalue": "'list' object is not callable",
     "output_type": "error",
     "traceback": [
      "\u001b[0;31m---------------------------------------------------------------------------\u001b[0m",
      "\u001b[0;31mTypeError\u001b[0m                                 Traceback (most recent call last)",
      "\u001b[1;32m/Users/joji/Documents/School/Fall 2022/ECE 570/AdversarialSupportPoisoning/my-few-shot-learning/few-shot-learning/fsl_main.ipynb Cell 4\u001b[0m in \u001b[0;36m<cell line: 9>\u001b[0;34m()\u001b[0m\n\u001b[1;32m      <a href='vscode-notebook-cell:/Users/joji/Documents/School/Fall%202022/ECE%20570/AdversarialSupportPoisoning/my-few-shot-learning/few-shot-learning/fsl_main.ipynb#W3sZmlsZQ%3D%3D?line=6'>7</a>\u001b[0m \u001b[39m#test_set.get_labels = lambda: [x[1] for x in test_set._flat_character_images]\u001b[39;00m\n\u001b[1;32m      <a href='vscode-notebook-cell:/Users/joji/Documents/School/Fall%202022/ECE%20570/AdversarialSupportPoisoning/my-few-shot-learning/few-shot-learning/fsl_main.ipynb#W3sZmlsZQ%3D%3D?line=7'>8</a>\u001b[0m test_set\u001b[39m.\u001b[39mget_labels \u001b[39m=\u001b[39m label_getter(test_set)\n\u001b[0;32m----> <a href='vscode-notebook-cell:/Users/joji/Documents/School/Fall%202022/ECE%20570/AdversarialSupportPoisoning/my-few-shot-learning/few-shot-learning/fsl_main.ipynb#W3sZmlsZQ%3D%3D?line=8'>9</a>\u001b[0m test_sampler \u001b[39m=\u001b[39m TaskSampler(test_set, n_way \u001b[39m=\u001b[39;49m n_way, n_shot \u001b[39m=\u001b[39;49m n_shot,n_query \u001b[39m=\u001b[39;49m n_query, n_tasks \u001b[39m=\u001b[39;49m n_evaluation_tasks)\n\u001b[1;32m     <a href='vscode-notebook-cell:/Users/joji/Documents/School/Fall%202022/ECE%20570/AdversarialSupportPoisoning/my-few-shot-learning/few-shot-learning/fsl_main.ipynb#W3sZmlsZQ%3D%3D?line=9'>10</a>\u001b[0m test_load \u001b[39m=\u001b[39m DataLoader(test_set, batch_sampler\u001b[39m=\u001b[39mtest_sampler,  collate_fn\u001b[39m=\u001b[39mtest_sampler\u001b[39m.\u001b[39mepisodic_collate)\n\u001b[1;32m     <a href='vscode-notebook-cell:/Users/joji/Documents/School/Fall%202022/ECE%20570/AdversarialSupportPoisoning/my-few-shot-learning/few-shot-learning/fsl_main.ipynb#W3sZmlsZQ%3D%3D?line=11'>12</a>\u001b[0m test_loader \u001b[39m=\u001b[39m DataLoader(\n\u001b[1;32m     <a href='vscode-notebook-cell:/Users/joji/Documents/School/Fall%202022/ECE%20570/AdversarialSupportPoisoning/my-few-shot-learning/few-shot-learning/fsl_main.ipynb#W3sZmlsZQ%3D%3D?line=12'>13</a>\u001b[0m     test_set,\n\u001b[1;32m     <a href='vscode-notebook-cell:/Users/joji/Documents/School/Fall%202022/ECE%20570/AdversarialSupportPoisoning/my-few-shot-learning/few-shot-learning/fsl_main.ipynb#W3sZmlsZQ%3D%3D?line=13'>14</a>\u001b[0m     batch_sampler\u001b[39m=\u001b[39mtest_sampler,\n\u001b[0;32m   (...)\u001b[0m\n\u001b[1;32m     <a href='vscode-notebook-cell:/Users/joji/Documents/School/Fall%202022/ECE%20570/AdversarialSupportPoisoning/my-few-shot-learning/few-shot-learning/fsl_main.ipynb#W3sZmlsZQ%3D%3D?line=16'>17</a>\u001b[0m     collate_fn\u001b[39m=\u001b[39mtest_sampler\u001b[39m.\u001b[39mepisodic_collate\n\u001b[1;32m     <a href='vscode-notebook-cell:/Users/joji/Documents/School/Fall%202022/ECE%20570/AdversarialSupportPoisoning/my-few-shot-learning/few-shot-learning/fsl_main.ipynb#W3sZmlsZQ%3D%3D?line=17'>18</a>\u001b[0m )\n",
      "File \u001b[0;32m~/Documents/School/Fall 2022/ECE 570/AdversarialSupportPoisoning/my-few-shot-learning/few-shot-learning/auxillary_functions.py:32\u001b[0m, in \u001b[0;36mTaskSampler.__init__\u001b[0;34m(self, dataset, n_way, n_shot, n_query, n_tasks)\u001b[0m\n\u001b[1;32m     30\u001b[0m \u001b[39mself\u001b[39m\u001b[39m.\u001b[39mn_tasks \u001b[39m=\u001b[39m n_tasks\n\u001b[1;32m     31\u001b[0m \u001b[39mself\u001b[39m\u001b[39m.\u001b[39mitems_per_label \u001b[39m=\u001b[39m \u001b[39mdict\u001b[39m()\n\u001b[0;32m---> 32\u001b[0m \u001b[39mfor\u001b[39;00m item, label \u001b[39min\u001b[39;00m \u001b[39menumerate\u001b[39m(dataset\u001b[39m.\u001b[39;49mget_labels()):\n\u001b[1;32m     33\u001b[0m     \u001b[39mif\u001b[39;00m label \u001b[39min\u001b[39;00m \u001b[39mself\u001b[39m\u001b[39m.\u001b[39mitems_per_label\u001b[39m.\u001b[39mkeys():\n\u001b[1;32m     34\u001b[0m         \u001b[39mself\u001b[39m\u001b[39m.\u001b[39mitems_per_label[label]\u001b[39m.\u001b[39mappend(item)\n",
      "\u001b[0;31mTypeError\u001b[0m: 'list' object is not callable"
     ]
    }
   ],
   "source": [
    "n_way = 5\n",
    "n_shot = 5\n",
    "n_query = 10\n",
    "n_evaluation_tasks = 100\n",
    "def label_getter(test_set):\n",
    "    return [x[1] for x in test_set._flat_character_images]\n",
    "#test_set.get_labels = lambda: [x[1] for x in test_set._flat_character_images]\n",
    "test_set.get_labels = label_getter(test_set)\n",
    "test_sampler = TaskSampler(test_set, n_way = n_way, n_shot = n_shot,n_query = n_query, n_tasks = n_evaluation_tasks)\n",
    "test_load = DataLoader(test_set, batch_sampler=test_sampler,  collate_fn=test_sampler.episodic_collate)\n",
    "\n",
    "test_loader = DataLoader(\n",
    "    test_set,\n",
    "    batch_sampler=test_sampler,\n",
    "    num_workers=12,\n",
    "    pin_memory=True,\n",
    "    collate_fn=test_sampler.episodic_collate\n",
    ")\n",
    "if __name__ == \"__main__\":\n",
    "    (\n",
    "        example_support_images,\n",
    "        example_support_labels,\n",
    "        example_query_images,\n",
    "        example_query_labels,\n",
    "        example_class_ids\n",
    "    ) = next(iter(test_loader))\n",
    "\n",
    "# plot_images(example_support_images, \"support images\", images_per_row=n_shot)\n",
    "# plot_images(example_query_images, \"query images\", images_per_row=n_query)"
   ]
  },
  {
   "cell_type": "code",
   "execution_count": null,
   "metadata": {},
   "outputs": [],
   "source": []
  }
 ],
 "metadata": {
  "kernelspec": {
   "display_name": "Python 3.8.13 ('pytorch-env')",
   "language": "python",
   "name": "python3"
  },
  "language_info": {
   "codemirror_mode": {
    "name": "ipython",
    "version": 3
   },
   "file_extension": ".py",
   "mimetype": "text/x-python",
   "name": "python",
   "nbconvert_exporter": "python",
   "pygments_lexer": "ipython3",
   "version": "3.8.13"
  },
  "orig_nbformat": 4,
  "vscode": {
   "interpreter": {
    "hash": "84d4f5bdd7c621897296a83e1748130c6e2526c51edb2fdefbb02d9d0bb115b8"
   }
  }
 },
 "nbformat": 4,
 "nbformat_minor": 2
}
